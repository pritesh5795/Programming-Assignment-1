{
 "cells": [
  {
   "cell_type": "code",
   "execution_count": 1,
   "id": "cc461bc2",
   "metadata": {},
   "outputs": [
    {
     "name": "stdout",
     "output_type": "stream",
     "text": [
      "Hello Python\n"
     ]
    }
   ],
   "source": [
    "#Q.1 Write a Python program to print \"Hello Python\".\n",
    "#Ans. \n",
    "print(\"Hello Python\")"
   ]
  },
  {
   "cell_type": "code",
   "execution_count": 3,
   "id": "e2f23654",
   "metadata": {},
   "outputs": [
    {
     "name": "stdout",
     "output_type": "stream",
     "text": [
      "3\n",
      "0.5\n"
     ]
    }
   ],
   "source": [
    "#Q.2 Write a Python program to do arithmetical operations addition and division.\n",
    "#Ans.\n",
    "a = 1\n",
    "b = 2\n",
    "x = a+b\n",
    "y = a/b\n",
    "print (x)\n",
    "print (y)"
   ]
  },
  {
   "cell_type": "code",
   "execution_count": 4,
   "id": "31e45f19",
   "metadata": {},
   "outputs": [
    {
     "name": "stdout",
     "output_type": "stream",
     "text": [
      "100.0\n"
     ]
    }
   ],
   "source": [
    "#Q.3 Write a Python program to find the area of a triangle.\n",
    "#Ans. let, h = height , b = width and a = area of triangle \n",
    "# consider h = 10 , b = 20 therefore,\n",
    "h = 10\n",
    "b = 20\n",
    "a = h*b/2\n",
    "print (a)"
   ]
  },
  {
   "cell_type": "code",
   "execution_count": 5,
   "id": "575eca2e",
   "metadata": {},
   "outputs": [
    {
     "name": "stdout",
     "output_type": "stream",
     "text": [
      "10\n",
      "5\n"
     ]
    }
   ],
   "source": [
    "#Q.4 Write a Python program to swap two variables.\n",
    "#Ans. \n",
    "x = 5\n",
    "y = 10\n",
    "x , y = y , x\n",
    "print (x)\n",
    "print (y)"
   ]
  },
  {
   "cell_type": "code",
   "execution_count": 17,
   "id": "dc306808",
   "metadata": {},
   "outputs": [
    {
     "data": {
      "text/plain": [
       "3"
      ]
     },
     "execution_count": 17,
     "metadata": {},
     "output_type": "execute_result"
    }
   ],
   "source": [
    "#Q.5 Write a Python program to generate a random number.\n",
    "#Ans.\n",
    "import random\n",
    "random.randint(0,14)"
   ]
  },
  {
   "cell_type": "code",
   "execution_count": null,
   "id": "2e6ef72e",
   "metadata": {},
   "outputs": [],
   "source": []
  }
 ],
 "metadata": {
  "kernelspec": {
   "display_name": "Python 3 (ipykernel)",
   "language": "python",
   "name": "python3"
  },
  "language_info": {
   "codemirror_mode": {
    "name": "ipython",
    "version": 3
   },
   "file_extension": ".py",
   "mimetype": "text/x-python",
   "name": "python",
   "nbconvert_exporter": "python",
   "pygments_lexer": "ipython3",
   "version": "3.9.7"
  }
 },
 "nbformat": 4,
 "nbformat_minor": 5
}
